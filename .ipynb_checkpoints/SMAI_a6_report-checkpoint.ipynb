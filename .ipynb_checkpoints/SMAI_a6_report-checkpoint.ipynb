{
 "cells": [
  {
   "cell_type": "markdown",
   "metadata": {},
   "source": [
    "<center>\n",
    "\n",
    "## SMAI ASSIGNMENT-6\n",
    "### SUBMITTED BY: AISHWARYA SHIVACHANDRA\n",
    "### ROLL NO. : 2018202005</center>"
   ]
  },
  {
   "cell_type": "markdown",
   "metadata": {},
   "source": [
    "## Q1 Without using any deep learning library, Implement the forward pass of neural network LeNet. Take filter weights as gaussian or random filter and pooling operation as max-pooling.\n"
   ]
  },
  {
   "cell_type": "markdown",
   "metadata": {},
   "source": [
    "### Lenet Architecture:  INPUT => CONV => RELU => POOL => CONV => RELU => POOL => FC(Conv) => RELU => FC \n",
    "#### Conv Filters are 5x5 applied at stride 1.\n",
    "\n",
    "<u>Algorithm implementation:</u>\n",
    "<br>1.Firstly resize the input image to 32x32x3\n",
    "<b><br>Resized image:</b><br>Image new Dimensions:  (32, 32, 4)<br>\n",
    "<img src = \"https://i.imgur.com/JL4HTV7.png\" width=\"300px\" height=\"300px\"></img>\n",
    "\n",
    "<br>Then, create first layer filter: 5x5x6\n",
    "<br>Now apply convolution and for output, calculate dimensions using:<br>\n",
    "<br>n_out:\n",
    "<img src = \"https://i.imgur.com/nJevMsX.png\" width=\"300px\" height=\"300px\"></img>\n",
    "\n",
    "\n",
    "<br>2. Convolution Layer: Here, we compute the output by dot product between all filters and image patch.\n",
    "<br>Convolution Result Dimensions: (28, 28, 6)\n",
    "\n",
    "<br>3. Activation Function Layer: This layer will apply element wise activation function to the output of convolution layer. <br>\n",
    "output will have dimensions:(28, 28, 6)\n",
    "\n",
    "<br>4. Pool Layer: Here, we use a max pool with 2 x 2 filters and stride 2, <br> New image dimension after 1st pooling:(14, 14, 6)\n",
    "\n",
    "<br>5.Fully-Connected Layer: This layer is regular neural network layer which takes input from the previous layer and computes the class scores and outputs the 1-D array of size equal to the number of classes.\n",
    "<br><br><br>\n",
    "<u>Results and observations:</u><br>\n",
    "Original Image:<br>\n",
    "<b><center>reLU</center></b>\n",
    "<br><br><u>Activation functions used to calculate output:</u>\n",
    "<br><br><b><center>reLU</center></b>\n",
    "<img src = \"https://i.imgur.com/Z8Nuily.png\" width=\"200px\" height=\"150px\"></img>"
   ]
  },
  {
   "cell_type": "markdown",
   "metadata": {},
   "source": [
    "## Q2 Answer the following questions for above architecture:\n",
    "### 1. What are the number of parameters in 1st convolutional layers ?"
   ]
  },
  {
   "cell_type": "markdown",
   "metadata": {},
   "source": [
    "=> <u>APPROACH USED:</u><br>Filter size =nxm\n",
    "<br>the input feature maps=l<br>\n",
    "output feature maps = k<br>\n",
    "Then, total number of parameters in convolutional layer= n x m x l x k + k\n",
    "<br><br><u>=> Results & observations:</u>\n",
    "<br> <b>For first convolutional layer:</b><br> filter size= 5x5\n",
    "<br>l=3 i.e. no of channels in rgb image \n",
    "<br>k=6,we need 6 such filters each having one bias entry\n",
    "<br>Then, total number of parameters in convolutional layer= (n x m x l+1) x k = 5x5x3x6 + 6= 456\n",
    "<br> <b>For second convolutional layer:</b><br> filter size= 5x5\n",
    "<br>l=6\n",
    "<br>k=16,we need 16 such filters each having one bias entry\n",
    "<br>Then, total number of parameters in convolutional layer= (n x m x l+1) x k =  5x5x6x16 + 16=2416"
   ]
  },
  {
   "cell_type": "markdown",
   "metadata": {},
   "source": [
    "### 2. What are the number of parameters in pooling operation?\n",
    "=>The pooling layers works as:<br> \"replace a 2x2 neighborhood by its maximum value\".<br>So there is no parameter to learn in a pooling layer"
   ]
  },
  {
   "cell_type": "markdown",
   "metadata": {},
   "source": [
    "### 3. Which of the following operations contain most number of parameters?\n",
    "### (a) conv (b) pool (c) Fully connected layer (FC) (d) Activation Functions"
   ]
  },
  {
   "cell_type": "markdown",
   "metadata": {},
   "source": [
    "=><b>a)For conv: </b>456 + 2416\n",
    "<br><b>b)For pool: </b>0\n",
    "<br><b>c)For Fully connected layer (FC): </b>\n",
    "<br>Fully-connected layers: In a fully-connected layer, all input units have a separate weight to each output unit. For n inputs and m outputs, the number of weights is n*m. Additionally, you have a bias for each output node, so you are at (n+1)*m parameters.\n",
    "<br> FC1=(400+1) x 120=48120\n",
    "<br> FC2=(120+1) x 84=10164\n",
    "<br> FC3=(84+1) x 10= 850\n",
    "<br><b>d) Activation Functions: </b>0\n",
    "<br><br>\n",
    "<u>=> Results & observations:</u><br>\n",
    "Thus, Fully connected layer contains most number of parameters"
   ]
  },
  {
   "cell_type": "markdown",
   "metadata": {},
   "source": [
    "The model of neural network we build for Apparel dataset is designed to work on classification problems. But this dataset consists of categorical values, and it is a regression problem. So we need to make the following modifications:-<br>\n",
    "<br>1) Since, we to predict a single output,i.e. the sale price of a house. So change the output layer size to one. So, change the nueral network with output layer size as 1.\n",
    "<br>2) In the house price prediction problem, mean absolute error (MAE), mean square error (MSE) or mean percentage error (MPE) can be used for calculating losses.\n",
    "<br>3) Here, linear activation function can be used, such as softmax or reLU function.\n",
    "We can also use reLU at the output layer since the house price will always be greater than zero.\n",
    "The number of hidden layers can be greater than 1 for this problem as the output will be a highly non linear function of the inputs.\n",
    "<br> 4) Since, this dataset consists of categorical values,one way to account for categorical features is to use one hot encode approach.\n",
    "This can be done by reading the numerical and categorical attributes separately, then one hot encoding the categorical attributes."
   ]
  },
  {
   "cell_type": "markdown",
   "metadata": {},
   "source": [
    "### 4. Which operation consume most amount of memory?\n",
    "### (a) initial convolution layers (b) fully connected layers at the end"
   ]
  },
  {
   "cell_type": "markdown",
   "metadata": {},
   "source": [
    "### 5. Try different activation functions and describe observations."
   ]
  },
  {
   "cell_type": "markdown",
   "metadata": {},
   "source": [
    "Reference for Q-2 formulas: https://stackoverflow.com/questions/42786717/how-to-calculate-the-number-of-parameters-for-convolutional-neural-network"
   ]
  },
  {
   "cell_type": "markdown",
   "metadata": {},
   "source": [
    "## Q3 [Tensorflow framework]. The notebook contain following TODO part:\n",
    "### 1. Barebone Tensorflow (low level APIs)"
   ]
  },
  {
   "cell_type": "markdown",
   "metadata": {},
   "source": [
    "The model of neural network we build for Apparel dataset is designed to work on classification problems. But this dataset consists of categorical values, and it is a regression problem. So we need to make the following modifications:-<br>\n",
    "<br>1) Since, "
   ]
  },
  {
   "cell_type": "markdown",
   "metadata": {},
   "source": [
    "### 2. Keras Model API"
   ]
  },
  {
   "cell_type": "markdown",
   "metadata": {},
   "source": [
    "The model of neural network we build for Apparel dataset is designed to work on classification problems. But this dataset consists of categorical values, and it is a regression problem. So we need to make the following modifications:-<br>"
   ]
  },
  {
   "cell_type": "markdown",
   "metadata": {},
   "source": [
    "### 3. Keras Sequential API"
   ]
  },
  {
   "cell_type": "markdown",
   "metadata": {},
   "source": []
  },
  {
   "cell_type": "markdown",
   "metadata": {},
   "source": [
    "### 4. CIFAR-10 Training"
   ]
  },
  {
   "cell_type": "markdown",
   "metadata": {},
   "source": [
    "<img src = \"https://i.imgur.com/mgBhRiH.png\" width=\"300px\" height=\"550px\" align=\"left\"></img>"
   ]
  },
  {
   "cell_type": "markdown",
   "metadata": {},
   "source": [
    "Instructions for updating:\n",
    "Use keras.layers.average_pooling2d instead.<br>\n",
    "Starting epoch 0<br>\n",
    "Iteration 0, loss = 2.5155\n",
    "Got 95 / 1000 correct (9.50%)\n",
    "()<br>\n",
    "Iteration 700, loss = 1.2799<br>\n",
    "Got 524 / 1000 correct (52.40%)\n",
    "()<br>\n",
    "Starting epoch 1\n",
    "Iteration 1400, loss = 1.1121\n",
    "Got 553 / 1000 correct (55.30%)\n",
    "()<br>\n",
    "Starting epoch 2<br>\n",
    "Iteration 2100, loss = 0.8447\n",
    "Got 661 / 1000 correct (66.10%)\n",
    "()<br>\n",
    "Starting epoch 3<br>\n",
    "Iteration 2800, loss = 0.8682\n",
    "Got 652 / 1000 correct (65.20%)\n",
    "()<br>\n",
    "Starting epoch 4<br>\n",
    "Iteration 3500, loss = 0.7265\n",
    "Got 659 / 1000 correct (65.90%)\n",
    "()<br>\n",
    "Starting epoch 5<br>\n",
    "Iteration 4200, loss = 0.6951\n",
    "Got 670 / 1000 correct (67.00%)\n",
    "()<br>\n",
    "Starting epoch 6<br>\n",
    "Iteration 4900, loss = 0.6527\n",
    "Got 644 / 1000 correct (64.40%)\n",
    "()<br>\n",
    "Starting epoch 7<br>\n",
    "Iteration 5600, loss = 0.7196\n",
    "Got 703 / 1000 correct (70.30%)\n",
    "()<br>\n",
    "Starting epoch 8<br>\n",
    "Iteration 6300, loss = 0.6397\n",
    "Got 701 / 1000 correct (70.10%)\n",
    "()<br>"
   ]
  },
  {
   "cell_type": "markdown",
   "metadata": {},
   "source": [
    "### 5. Write an explanation of what you did, any additional features that you implemented, and/or any graphs that you made in the process of training and evaluating your network."
   ]
  },
  {
   "cell_type": "markdown",
   "metadata": {},
   "source": [
    "The model of neural network we build for Apparel dataset is designed to work on classification problems. But this dataset consists of categorical values, and it is a regression problem. So we need to make the following modifications:-<br>\n",
    "<br>1) Since, we to predict a single output,i.e. the sale price of a house. So change the output layer size to one. So, change the nueral network with output layer size as 1.\n",
    "<br>2) In the house price prediction problem, mean absolute error (MAE), mean square error (MSE) or mean percentage error (MPE) can be used for calculating losses.\n",
    "<br>3) Here, linear activation function can be used, such as softmax or reLU function.\n",
    "We can also use reLU at the output layer since the house price will always be greater than zero.\n",
    "The number of hidden layers can be greater than 1 for this problem as the output will be a highly non linear function of the inputs.\n",
    "<br> 4) Since, this dataset consists of categorical values,one way to account for categorical features is to use one hot encode approach.\n",
    "This can be done by reading the numerical and categorical attributes separately, then one hot encoding the categorical attributes."
   ]
  },
  {
   "cell_type": "code",
   "execution_count": null,
   "metadata": {},
   "outputs": [],
   "source": []
  }
 ],
 "metadata": {
  "kernelspec": {
   "display_name": "Python 2",
   "language": "python",
   "name": "python2"
  },
  "language_info": {
   "codemirror_mode": {
    "name": "ipython",
    "version": 2
   },
   "file_extension": ".py",
   "mimetype": "text/x-python",
   "name": "python",
   "nbconvert_exporter": "python",
   "pygments_lexer": "ipython2",
   "version": "2.7.15rc1"
  }
 },
 "nbformat": 4,
 "nbformat_minor": 2
}
